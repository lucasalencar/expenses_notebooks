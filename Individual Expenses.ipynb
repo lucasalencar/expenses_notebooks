{
 "cells": [
  {
   "cell_type": "markdown",
   "metadata": {},
   "source": [
    "# Configurations"
   ]
  },
  {
   "cell_type": "code",
   "execution_count": null,
   "metadata": {},
   "outputs": [],
   "source": [
    "# These are configuration variable used by the notebook\n",
    "\n",
    "NUBANK_CATEGORY_CONVERSION = {\n",
    "    'supermercado': 'mercado',\n",
    "    'eletrônicos':  'compras',\n",
    "    'vestuário':    'compras',\n",
    "    'ajuste':       'outros',\n",
    "}\n",
    "\n",
    "\n",
    "SPLITWISE_CATEGORY_CONVERSION = {\n",
    "    'aluguel':                    'casa',\n",
    "    'tv/telefone/internet':       'casa',\n",
    "    'eletricidade':               'casa',\n",
    "    'manutenção':                 'casa',\n",
    "    'casa - outros':              'casa',\n",
    "    'serviços':                   'casa',\n",
    "    'móveis':                     'casa',\n",
    "    'jantar fora':                'restaurante',\n",
    "    'comidas e bebidas - outros': 'restaurante',\n",
    "    'produtos de limpeza':        'mercado',\n",
    "    'táxi':                       'transporte',\n",
    "    'filmes':                     'lazer',\n",
    "    'música':                     'lazer',\n",
    "    'bicicleta':                  'lazer',\n",
    "    'jogos':                      'lazer',\n",
    "    'entretenimento - outros':    'lazer',\n",
    "    'esportes':                   'lazer',\n",
    "    'despesas médicas':           'saúde',\n",
    "    'eletrônicos':                'compras',\n",
    "    'hotel':                      'viagem',\n",
    "    'ônibus/trem':                'viagem',\n",
    "    'avião':                      'viagem',\n",
    "    'combustível':                'viagem',\n",
    "    'carro':                      'viagem',\n",
    "    'seguro':                     'outros',\n",
    "    'vida - outros':              'outros',\n",
    "    'geral':                      'outros',\n",
    "    'presentes':                  'outros',\n",
    "}\n",
    "\n",
    "EXPENSES_DISTRIBUTION = {\n",
    "    'casa': 0.24,\n",
    "    'restaurante': 0.09,\n",
    "    'mercado': 0.09,\n",
    "    'lazer': 0.02,\n",
    "    'transporte': 0.02,\n",
    "    'compras': 0.01,\n",
    "    'saúde': 0.01\n",
    "}\n",
    "\n",
    "# TODO Add jacas keter splitwise group to the expenses\n",
    "LOAD_CONFIGS = {\n",
    "    'data_path': \"./data\", # Directory that contains the expenses data\n",
    "    'nubank_file_pattern': \"nubank*.csv\",\n",
    "    'splitwise_file_pattern': \"20*mozi-e-eu*.csv\",\n",
    "    'manual_file_pattern': \"Extrato outras contas*Despesas*.csv\",\n",
    "    'incomes_file_pattern': \"Extrato outras contas*Rendimentos*.csv\",\n",
    "    'person_who_pays': \"Lucas Alencar\", # Person name that the expenses will be extracted from Splitwise csv\n",
    "    'splitwise_category_table': SPLITWISE_CATEGORY_CONVERSION,\n",
    "    'nubank_category_table': NUBANK_CATEGORY_CONVERSION,\n",
    "}\n",
    "\n",
    "from datetime import date, timedelta\n",
    "from date_helpers import previous_month\n",
    "\n",
    "# Date used to make month analysis through the notebook\n",
    "BASE_DATE = previous_month(date.today())\n",
    "\n",
    "# Year you were born\n",
    "YEAR_OF_BIRTH = 1991\n",
    "\n",
    "## Data load and preprocess\n",
    "from plotly.offline import init_notebook_mode\n",
    "init_notebook_mode(connected=True)\n",
    "\n",
    "from IPython.display import display\n",
    "import record_summary as rs\n",
    "\n",
    "from load import incomes, expenses\n",
    "\n",
    "incomes = incomes.load(**LOAD_CONFIGS)\n",
    "expenses = expenses.load(**LOAD_CONFIGS)"
   ]
  },
  {
   "cell_type": "markdown",
   "metadata": {},
   "source": [
    "# Monthly Expenses"
   ]
  },
  {
   "cell_type": "code",
   "execution_count": null,
   "metadata": {
    "scrolled": false
   },
   "outputs": [],
   "source": [
    "from expenses import monthly as monthly_expenses\n",
    "\n",
    "MONTHLY_BALANCE_GOAL = 0.4\n",
    "print(\" >>> Monthly balance goal:\", MONTHLY_BALANCE_GOAL * 100, \"%\")\n",
    "\n",
    "monthly_exp = monthly_expenses.month_by_month_summary(expenses, incomes)\n",
    "display(monthly_expenses.style_summary(monthly_exp, MONTHLY_BALANCE_GOAL))\n",
    "\n",
    "avg_monthly_exp = monthly_expenses.avg_month_summary(expenses, incomes)\n",
    "display(monthly_expenses.style_summary(avg_monthly_exp, MONTHLY_BALANCE_GOAL))\n",
    "\n",
    "monthly_expenses.plot(monthly_exp)"
   ]
  },
  {
   "cell_type": "markdown",
   "metadata": {},
   "source": [
    "# Expenses by category"
   ]
  },
  {
   "cell_type": "code",
   "execution_count": null,
   "metadata": {
    "scrolled": false
   },
   "outputs": [],
   "source": [
    "from expenses import category\n",
    "\n",
    "# BASE_DATE = date(2019, 2, 1)\n",
    "print(\">>> Month of analysis: \", BASE_DATE.month, BASE_DATE.year)\n",
    "\n",
    "expenses_for_month = rs.records_for_month(expenses, BASE_DATE)\n",
    "incomes_for_month = rs.records_for_month(incomes, BASE_DATE)\n",
    "\n",
    "expenses_for_category_by_total = category.distribution(expenses_for_month, incomes_for_month, EXPENSES_DISTRIBUTION)\n",
    "display(category.style_distribution(expenses_for_category_by_total))\n",
    "\n",
    "category.display_expenses(expenses_for_month, 'outros')"
   ]
  },
  {
   "cell_type": "code",
   "execution_count": null,
   "metadata": {},
   "outputs": [],
   "source": [
    "from expenses import category\n",
    "\n",
    "# Plots over time for each category grouping them by easy of read\n",
    "expenses_over_time_data = category.add_food_expenses(expenses, \n",
    "                                                     category.over_time(expenses, incomes, 'amount #'))\n",
    "\n",
    "from plotting import over_time\n",
    "over_time.plot(expenses_over_time_data[['casa', 'viagem', 'educação']])\n",
    "over_time.plot(expenses_over_time_data[['restaurante', 'mercado', 'alimentação']])\n",
    "over_time.plot(expenses_over_time_data[['transporte', 'lazer', 'serviços']])"
   ]
  },
  {
   "cell_type": "markdown",
   "metadata": {},
   "source": [
    "# Return progress"
   ]
  },
  {
   "cell_type": "code",
   "execution_count": null,
   "metadata": {
    "scrolled": false
   },
   "outputs": [],
   "source": [
    "from investments import monthly as monthly_investments\n",
    "from load import central_bank\n",
    "\n",
    "# BASE_DATE = date(2019, 3, 1)\n",
    "print(\">>> Month of analysis:\", BASE_DATE.month, BASE_DATE.year)\n",
    "\n",
    "current_ipca = central_bank.ipca_for_month(BASE_DATE)\n",
    "current_ipca = current_ipca * 100 if current_ipca else None\n",
    "print(\"> Current IPCA:\", current_ipca, \"%\")\n",
    "\n",
    "RETURN_FOR_MONTH_GOAL = 0.005\n",
    "RETURN_WITH_INFLATION_GOAL = 0.0045\n",
    "\n",
    "invest = incomes[incomes.category.isin(['aplicação', 'valor aplicado', 'desconto'])]\n",
    "\n",
    "# Table with returns for the current month\n",
    "summary_invest = monthly_investments.summary(invest, BASE_DATE).sort_values('Return for month (%)', ascending=False)\n",
    "\n",
    "display(monthly_investments.style_summary(summary_invest, RETURN_FOR_MONTH_GOAL, RETURN_WITH_INFLATION_GOAL))"
   ]
  },
  {
   "cell_type": "markdown",
   "metadata": {},
   "source": [
    "# Return over time"
   ]
  },
  {
   "cell_type": "code",
   "execution_count": null,
   "metadata": {},
   "outputs": [],
   "source": [
    "# Get all investments titles\n",
    "# import pandas as pd\n",
    "# display(pd.DataFrame(invest['title'].unique(), columns=['title']))\n",
    "\n",
    "# Some visualizations to use and see the return history for the groups\n",
    "general = ['Nuconta Renda Fixa 100% CDI',\n",
    "           'Tesouro Selic 2021',\n",
    "           'CDB Banco Maxima',\n",
    "           'Magnetis Diversificação Renda Fixa',\n",
    "           'Magnetis Diversificação Multimercados',\n",
    "           'Magnetis Diversificação Ações']\n",
    "\n",
    "# Other investments in renda fixa are better than Tesouro Selic? They are still worth it?\n",
    "renda_fixa = ['Nuconta Renda Fixa 100% CDI',\n",
    "              'Tesouro Selic 2021',\n",
    "              'Tesouro Selic 2023',\n",
    "              'Magnetis Diversificação Renda Fixa',\n",
    "              'LCI Banco Original',\n",
    "              'CDB Banco Maxima',\n",
    "              'Brasil Plural Yield Fundo de Investimento Renda Fixa Referen']\n",
    "\n",
    "# Is Magnetis investing in good stocks? Is the cumulative return increasing?\n",
    "renda_variavel = ['Magnetis Diversificação Ações',\n",
    "                  'BRAX11',\n",
    "                  'Magnetis Diversificação Multimercados']\n",
    "\n",
    "# Does bitcoin is still a good experiment?\n",
    "bitcoins = ['Bitcoin', 'Cripto Trade']\n",
    "\n",
    "# There are better opportunities of investments over these Tesouros?\n",
    "tesouros = ['Tesouro IPCA+ 2024',\n",
    "            'Tesouro Selic 2021',\n",
    "            'Tesouro Selic 2023']\n",
    "\n",
    "a_year_ago = BASE_DATE - timedelta(days=365)\n",
    "RETURN_STARTING_MONTH = a_year_ago.strftime('%Y-%m')\n",
    "RETURN_ENDING_MONTH = BASE_DATE.strftime('%Y-%m')\n",
    "\n",
    "print('from:', RETURN_STARTING_MONTH, 'to:', RETURN_ENDING_MONTH)\n",
    "\n",
    "PLOT_TITLE_GROUP = general\n",
    "\n",
    "import plotting\n",
    "from investments import over_time\n",
    "\n",
    "plotting.over_time.plot(over_time.return_percentage_over_time(invest)\\\n",
    "                        .loc[RETURN_STARTING_MONTH:RETURN_ENDING_MONTH, PLOT_TITLE_GROUP], \n",
    "               title='Return over time (%)')\n",
    "\n",
    "plotting.over_time.plot(over_time.cumulative_return_over_time(invest)\\\n",
    "                        .loc[RETURN_STARTING_MONTH:RETURN_ENDING_MONTH, PLOT_TITLE_GROUP], \n",
    "               title='Cumulative return over time')"
   ]
  },
  {
   "cell_type": "markdown",
   "metadata": {},
   "source": [
    "# Investment progress"
   ]
  },
  {
   "cell_type": "code",
   "execution_count": null,
   "metadata": {
    "scrolled": false
   },
   "outputs": [],
   "source": [
    "from investments import assets\n",
    "\n",
    "ASSETS_SUMMARY_START_DATE = date(2018, 2, 1)\n",
    "ASSETS_SUMMARY_END_DATE = BASE_DATE\n",
    "\n",
    "assets_summary = assets.summary(invest, ASSETS_SUMMARY_START_DATE, ASSETS_SUMMARY_END_DATE)\n",
    "display(assets.style_summary(assets_summary))\n",
    "\n",
    "from investments import types\n",
    "types.plot(invest, BASE_DATE)\n",
    "\n",
    "# Plot line to see assets progress\n",
    "from plotting import over_time\n",
    "over_time.plot(assets_summary['Return'].to_frame(), title='Return')\n",
    "over_time.plot(assets_summary['Applications'].to_frame(), title='Applications')"
   ]
  },
  {
   "cell_type": "markdown",
   "metadata": {},
   "source": [
    "# Investments liquidations"
   ]
  },
  {
   "cell_type": "code",
   "execution_count": null,
   "metadata": {},
   "outputs": [],
   "source": [
    "from investments import post_liquidation\n",
    "## TODO Add ROI to this table\n",
    "post_liquidation.final_return(post_liquidation.liquidations_incomes(incomes))"
   ]
  },
  {
   "cell_type": "markdown",
   "metadata": {},
   "source": [
    "# Assets goals\n",
    "\n",
    "### (PMS) Patrimônio Mínimo de Sobrevivência\n",
    "\n",
    "Reserva de emergência\n",
    "\n",
    "```6 * Custo mensal```\n",
    "\n",
    "### (PMR) Patrimônio Mínimo Recomendado para segurança \n",
    "\n",
    "Possibilita decisões mais arriscada sobre carreira ou mudanças.\n",
    "\n",
    "```12 * Custo mensal```\n",
    "\n",
    "### (PI) Patrimônio Ideal para idade e consumo \n",
    "\n",
    "Dado os meus gastos mensais atuais, se eu continuar trabalhando até a aposentadoria (65 anos), eu conseguiria viver apenas gastando esse dinheiro.\n",
    "\n",
    "```0.1 * PMR * Idade```\n",
    "\n",
    "### (PNIF) Patrimônio Necessário para a Independência Financeira\n",
    "\n",
    "Dado os meus rendimentos com investimentos, eu conseguiria manter o mesmo padrão apenas com o dinheiro investido\n",
    "\n",
    "```PMR / Rendimento anual %```"
   ]
  },
  {
   "cell_type": "code",
   "execution_count": null,
   "metadata": {},
   "outputs": [],
   "source": [
    "from investments import assets\n",
    "\n",
    "ASSETS_GOALS_START_DATE = BASE_DATE - timedelta(days=365)\n",
    "ASSETS_GOALS_END_DATE = BASE_DATE\n",
    "\n",
    "print(\"Projected return for a year: {:,.4f}%\"\\\n",
    "      .format(assets.projected_return_for_year(invest, ASSETS_GOALS_START_DATE, ASSETS_GOALS_END_DATE) * 100))\n",
    "\n",
    "expenses_by_month = rs.total_amount_by(rs.groupby_month(expenses), expenses)\n",
    "\n",
    "display(assets.style_goals(assets.goals(expenses_by_month,\n",
    "                                        invest, \n",
    "                                        ASSETS_GOALS_START_DATE,\n",
    "                                        ASSETS_GOALS_END_DATE, \n",
    "                                        YEAR_OF_BIRTH)))\n",
    "\n",
    "from plotting import over_time\n",
    "over_time.plot(assets_summary.loc[:ASSETS_GOALS_END_DATE.strftime('%Y-%m'), 'Total'].to_frame(), \n",
    "               title='Assets')"
   ]
  },
  {
   "cell_type": "markdown",
   "metadata": {},
   "source": [
    "# How much my time is worth?"
   ]
  },
  {
   "cell_type": "code",
   "execution_count": null,
   "metadata": {},
   "outputs": [],
   "source": [
    "from incomes import salary\n",
    "\n",
    "HOURS_WORKED_BY_DAY = 8.8 # According to CLT\n",
    "\n",
    "# BASE_DATE = date(2019,7,1)\n",
    "\n",
    "earned_for_month = salary.earned_for_month(incomes, BASE_DATE)\n",
    "hours_worked_by_month = salary.hours_worked_for_month(HOURS_WORKED_BY_DAY, BASE_DATE)\n",
    "money_for_time = earned_for_month / hours_worked_by_month\n",
    "\n",
    "msg = \"\"\"In {}, you have earned {}.\n",
    "Given you have worked for {:,.2f} hours in this month.\n",
    "Your time is worth {:,.2f} R$/hour.\n",
    "Not considering holidays or vacations.\"\"\"\n",
    "\n",
    "print(msg.format(BASE_DATE.strftime('%Y-%m'), earned_for_month, hours_worked_by_month, money_for_time))"
   ]
  }
 ],
 "metadata": {
  "kernelspec": {
   "display_name": "Python 3",
   "language": "python",
   "name": "python3"
  },
  "language_info": {
   "codemirror_mode": {
    "name": "ipython",
    "version": 3
   },
   "file_extension": ".py",
   "mimetype": "text/x-python",
   "name": "python",
   "nbconvert_exporter": "python",
   "pygments_lexer": "ipython3",
   "version": "3.7.3"
  }
 },
 "nbformat": 4,
 "nbformat_minor": 2
}
