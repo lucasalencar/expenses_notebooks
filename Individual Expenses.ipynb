{
 "cells": [
  {
   "cell_type": "markdown",
   "metadata": {},
   "source": [
    "# Data preprocess"
   ]
  },
  {
   "cell_type": "code",
   "execution_count": null,
   "metadata": {},
   "outputs": [],
   "source": [
    "from expenses_preprocess import *\n",
    "\n",
    "DATA_PATH = \"./data\"\n",
    "PERSON_WHO_PAYS = \"Lucas Alencar\"\n",
    "\n",
    "# Map with categories from Nubank/Splitwise to official categories\n",
    "CATEGORY_CONVERSION_TABLE = {\n",
    "    'Eletrônicos': 'Compras',\n",
    "    'Supermercado': 'Mercado',\n",
    "    'Vestuário': 'Compras',\n",
    "    'Jantar fora': 'Restaurante',\n",
    "    'Ônibus/trem': 'Transporte',\n",
    "    'Filmes': 'Lazer',\n",
    "    'Despesas médicas': 'Saúde',\n",
    "    'Aluguel': 'Casa',\n",
    "    'Táxi': 'Transporte'\n",
    "}\n",
    "\n",
    "# Column names to convert Splitwise\n",
    "SPLITWISE_COLUMN_NAMES = {\n",
    "    'Data': 'date',\n",
    "    'Descrição': 'title',\n",
    "    'Categoria': 'category',\n",
    "}\n",
    "\n",
    "# NUBANK PREPROCESS\n",
    "nubank_expenses = nubank_preprocess(read_all_csvs(DATA_PATH, '/nubank*.csv'), CATEGORY_CONVERSION_TABLE)\n",
    "\n",
    "# SPLITWISE PREPROCESS\n",
    "splitwise = pd.read_csv(glob.glob(DATA_PATH + \"/Splitwise*.csv\")[0])\n",
    "splitwise = splitwise_preprocess(splitwise, CATEGORY_CONVERSION_TABLE)\n",
    "splitwise = splitwise_focused_on(PERSON_WHO_PAYS, splitwise, SPLITWISE_COLUMN_NAMES)\n",
    "\n",
    "# OTHER ACCOUNTS PREPROCESS\n",
    "other_accounts = pd.read_csv(glob.glob(DATA_PATH + \"/Despesas*.csv\")[0])\n",
    "other_accounts = other_accounts_preprocess(other_accounts)\n",
    "\n",
    "# Data consolidation and exports\n",
    "expenses = pd.concat([nubank_expenses, splitwise, other_accounts])[['date', 'title', 'category', 'amount']]\n",
    "export_to_sheets(expenses, DATA_PATH)\n",
    "export_raw_expenses(expenses, DATA_PATH)\n",
    "\n",
    "print(\"Ok\")"
   ]
  },
  {
   "cell_type": "markdown",
   "metadata": {},
   "source": [
    "# Expenses analysis"
   ]
  },
  {
   "cell_type": "code",
   "execution_count": null,
   "metadata": {},
   "outputs": [],
   "source": [
    "import pandas as pd\n",
    "\n",
    "expenses = pd.read_csv(\"./data/raw_expenses.csv\", parse_dates=['date'])\n",
    "expenses.set_index('date')\n",
    "\n",
    "# Expenses for each month\n",
    "expenses.groupby(expenses['date'].dt.strftime(\"%Y-%m\")).amount.sum()"
   ]
  }
 ],
 "metadata": {
  "kernelspec": {
   "display_name": "Python 3",
   "language": "python",
   "name": "python3"
  },
  "language_info": {
   "codemirror_mode": {
    "name": "ipython",
    "version": 3
   },
   "file_extension": ".py",
   "mimetype": "text/x-python",
   "name": "python",
   "nbconvert_exporter": "python",
   "pygments_lexer": "ipython3",
   "version": "3.6.3"
  }
 },
 "nbformat": 4,
 "nbformat_minor": 2
}
