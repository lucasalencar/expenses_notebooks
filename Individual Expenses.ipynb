{
 "cells": [
  {
   "cell_type": "markdown",
   "metadata": {},
   "source": [
    "# Configurations"
   ]
  },
  {
   "cell_type": "code",
   "execution_count": null,
   "metadata": {},
   "outputs": [],
   "source": [
    "# These are configuration variable used by the notebook\n",
    "\n",
    "NUBANK_FILE_PATTERN = \"nubank*.csv\"\n",
    "SPLITWISE_FILE_PATTERN = \"mozi-e-eu*.csv\"\n",
    "OTHER_EXPENSES_FILE_PATTERN = \"Extrato outras contas*Despesas*.csv\"\n",
    "INCOMES_FILE_PATTERN = \"Extrato outras contas*Rendimentos*.csv\"\n",
    "\n",
    "# Directory that contains the expenses data\n",
    "DATA_PATH = \"./data\"\n",
    "\n",
    "# Person name that the expenses will be extracted from Splitwise csv\n",
    "PERSON_WHO_PAYS = \"Lucas Alencar\"\n",
    "\n",
    "# Category Map from Nubank/Splitwise to official categories\n",
    "# This map will be used to convert a category to another one\n",
    "CATEGORY_CONVERSION_TABLE = {\n",
    "    'Eletricidade': 'Casa',\n",
    "    'Aluguel': 'Casa',\n",
    "    'Móveis': 'Casa',\n",
    "    'Jantar fora': 'Restaurante',\n",
    "    'Supermercado': 'Mercado',\n",
    "    'Eletrônicos': 'Compras',\n",
    "    'Vestuário': 'Compras',\n",
    "    'Produtos de limpeza': 'Compras',\n",
    "    'Filmes': 'Lazer',\n",
    "    'Música': 'Lazer',\n",
    "    'TV/Telefone/Internet': 'Serviços',\n",
    "    'Despesas médicas': 'Saúde',\n",
    "    'Táxi': 'Transporte',\n",
    "    'Ônibus/trem': 'Viagem',\n",
    "    'Avião': 'Viagem',\n",
    "    'Hotel': 'Viagem',\n",
    "    'Presentes': 'Outros',\n",
    "    'Geral': 'Outros',\n",
    "    'Ajuste': 'Outros',\n",
    "    'Manutenção': 'Compras'\n",
    "}\n",
    "\n",
    "from datetime import date\n",
    "from date_helpers import previous_month\n",
    "\n",
    "# Date used to make month analysis through the notebook\n",
    "# BASE_DATE = date(2018, 7, 1)\n",
    "BASE_DATE = previous_month(date.today())\n",
    "\n",
    "# Year you were born\n",
    "YEAR_OF_BIRTH = 1991"
   ]
  },
  {
   "cell_type": "markdown",
   "metadata": {},
   "source": [
    "# Data load and preprocess"
   ]
  },
  {
   "cell_type": "code",
   "execution_count": null,
   "metadata": {},
   "outputs": [],
   "source": [
    "from preprocess import *\n",
    "\n",
    "# NUBANK PREPROCESS\n",
    "nubank_expenses = nubank_preprocess(read_all_csvs(DATA_PATH, NUBANK_FILE_PATTERN))\n",
    "\n",
    "# SPLITWISE PREPROCESS\n",
    "splitwise = read_first_file_found(DATA_PATH, SPLITWISE_FILE_PATTERN)\n",
    "splitwise = splitwise_preprocess(splitwise, PERSON_WHO_PAYS)\n",
    "\n",
    "# OTHER EXPENSES PREPROCESS\n",
    "other_expenses = read_first_file_found(DATA_PATH, OTHER_EXPENSES_FILE_PATTERN)\n",
    "\n",
    "# INCOMES PREPROCESS\n",
    "incomes = read_first_file_found(DATA_PATH, INCOMES_FILE_PATTERN)\n",
    "incomes = incomes_preprocess(incomes)\n",
    "\n",
    "# Data consolidation and exports\n",
    "expenses_input_files = [nubank_expenses, splitwise, other_expenses]\n",
    "expenses = expenses_preprocess(pd.concat(expenses_input_files, sort=False), CATEGORY_CONVERSION_TABLE)\n",
    "\n",
    "export_to_sheets(expenses, DATA_PATH)\n",
    "export_raw_expenses(expenses, DATA_PATH)"
   ]
  },
  {
   "cell_type": "markdown",
   "metadata": {},
   "source": [
    "# Monthly Expenses"
   ]
  },
  {
   "cell_type": "code",
   "execution_count": null,
   "metadata": {},
   "outputs": [],
   "source": [
    "import pandas as pd\n",
    "import numpy as np\n",
    "import seaborn as sns\n",
    "import matplotlib.pyplot as plt\n",
    "\n",
    "%matplotlib inline\n",
    "\n",
    "from IPython.display import display\n",
    "from monthly_expenses import *\n",
    "from record_summary import total_amount_by, groupby_month\n",
    "\n",
    "MONTHLY_BALANCE_GOAL = 0.4\n",
    "\n",
    "# Expenses and incomes by month\n",
    "exp_by_month = total_amount_by(groupby_month(expenses), expenses)\n",
    "\n",
    "income_salary = incomes[incomes.category == 'renda'][['date', 'amount']]\n",
    "inc_by_month = total_amount_by(groupby_month(income_salary), income_salary)\n",
    "\n",
    "monthly_exp = summary_expenses(exp_by_month, inc_by_month)\n",
    "\n",
    "# Monthly averages\n",
    "avg_monthly_exp = summary_expenses(exp_by_month.mean(), inc_by_month.mean())\n",
    "avg_monthly_exp.index = ['Average monthly expenses']\n",
    "\n",
    "print(\" >>> Monthly balance goal:\", MONTHLY_BALANCE_GOAL * 100, \"%\")\n",
    "display(style_summary_expenses(monthly_exp, MONTHLY_BALANCE_GOAL))\n",
    "display(style_summary_expenses(avg_monthly_exp, MONTHLY_BALANCE_GOAL))\n",
    "\n",
    "# Plot expenses summary\n",
    "plt.figure(figsize=(20,10))\n",
    "plt.plot(monthly_exp['Expenses'] * -1, 'r', label='Expenses')\n",
    "plt.plot(monthly_exp['Incomes'], 'g', label='Incomes')\n",
    "plt.plot(monthly_exp['Balance'], 'b', label='Balance')\n",
    "plt.legend(fontsize=20)\n",
    "plt.grid()\n",
    "plt.show()"
   ]
  },
  {
   "cell_type": "markdown",
   "metadata": {},
   "source": [
    "# Expenses by category"
   ]
  },
  {
   "cell_type": "code",
   "execution_count": null,
   "metadata": {
    "scrolled": false
   },
   "outputs": [],
   "source": [
    "from date_helpers import records_for_month\n",
    "\n",
    "from monthly_expenses import *\n",
    "\n",
    "# BASE_DATE = date(2018, 10, 1)\n",
    "print(\">>> Month of analysis: \", BASE_DATE.month, BASE_DATE.year)\n",
    "\n",
    "expenses_for_month = records_for_month(expenses, BASE_DATE)\n",
    "incomes_for_month = records_for_month(incomes, BASE_DATE)\n",
    "\n",
    "expenses_for_category_by_total = describe_expenses(expenses_for_month, incomes_for_month)\n",
    "display(style_expenses_distribution(expenses_for_category_by_total))\n",
    "\n",
    "def display_expenses_by_category(category):\n",
    "    print(\"Expenses in category\", category)\n",
    "    display(expenses_for_month[expenses_for_month.category == category].sort_values('amount'))\n",
    "    \n",
    "display_expenses_by_category(\"outros\")\n",
    "\n",
    "# Plots over time for each category grouping them by easy of read\n",
    "expenses_over_time = expenses_over_time(expenses, incomes, 'amount #')\n",
    "\n",
    "plot_expenses_over_time(expenses_over_time[['casa', 'viagem', 'educação']])\n",
    "plot_expenses_over_time(expenses_over_time[['restaurante', 'mercado', 'serviços']])\n",
    "plot_expenses_over_time(expenses_over_time[['transporte', 'lazer']])"
   ]
  },
  {
   "cell_type": "markdown",
   "metadata": {},
   "source": [
    "# Investments progress"
   ]
  },
  {
   "cell_type": "code",
   "execution_count": null,
   "metadata": {
    "scrolled": false
   },
   "outputs": [],
   "source": [
    "from IPython.display import display\n",
    "from monthly_investiments import *\n",
    "from central_bank_data import central_bank_metric, BC_IPCA_BY_MONTH_ID\n",
    "\n",
    "\n",
    "# BASE_DATE = date(2018, 10, 1)\n",
    "print(\">>> Month of analysis:\", BASE_DATE.month, BASE_DATE.year)\n",
    "\n",
    "current_ipca = central_bank_metric(BC_IPCA_BY_MONTH_ID, BASE_DATE)\n",
    "current_ipca = current_ipca * 100 if current_ipca else None\n",
    "print(\"> Current IPCA:\", current_ipca, \"%\")\n",
    "\n",
    "RETURN_FOR_MONTH_GOAL = 0.005\n",
    "RETURN_WITH_INFLATION_GOAL = 0.005\n",
    "\n",
    "invest = incomes[incomes.category.isin(['aplicação', 'valor aplicado'])]\n",
    "\n",
    "summary_invest = summary_investiments_current_month(invest, BASE_DATE)\\\n",
    "                 .sort_values('Return for month (%)', ascending=False)\n",
    "display(style_summary_investments(summary_invest, RETURN_FOR_MONTH_GOAL, RETURN_WITH_INFLATION_GOAL))\n",
    "\n",
    "assets_summary = summary_assets(invest)\n",
    "display(style_summary_assets(assets_summary))\n",
    "\n",
    "plot_invest_type_distribution(invest, BASE_DATE)\n",
    "\n",
    "# Plot line to see assets progress\n",
    "plot_assets_summary(assets_summary[['Return']], '2018-02')\n",
    "plot_assets_summary(assets_summary[['Applications']], '2018-02')"
   ]
  },
  {
   "cell_type": "markdown",
   "metadata": {},
   "source": [
    "# Assets goals"
   ]
  },
  {
   "cell_type": "code",
   "execution_count": null,
   "metadata": {},
   "outputs": [],
   "source": [
    "# PMS Patrimônio Mínimo de Sobrevivência (Reserva de emergência)\n",
    "# 6 * Custo mensal\n",
    "\n",
    "# PMR Patrimônio Mínimo Recomendado para segurança \n",
    "# Possibilita decisões mais arriscada sobre carreira ou mudanças.\n",
    "# 12 * Custo mensal\n",
    "\n",
    "# PI Patrimônio Ideal para idade e consumo \n",
    "# Dado os meus gastos mensais atuais, se eu continuar trabalhando até a aposentadoria (65 anos), \n",
    "# eu conseguiria viver apenas gastando esse dinheiro.\n",
    "# 0.1 * PMR * Idade\n",
    "\n",
    "# PNIF Patrimônio Necessário para a Independência Financeira\n",
    "# Dado os meus rendimentos com investimentos, eu conseguiria manter o mesmo padrão apenas com o dinheiro investido\n",
    "# PMR / Rendimento anual %\n",
    "\n",
    "from datetime import date\n",
    "from monthly_investiments import *\n",
    "\n",
    "age = date.today().year - YEAR_OF_BIRTH\n",
    "\n",
    "# This is the annualized return based on the return for every month\n",
    "# It is starting to count the return beginning on 2018-04, \n",
    "# because this is the most accurate values I have now\n",
    "annualized_return = assets_summary.loc['2018-04':, 'Return / Total'].mean() * 12\n",
    "print(\"Annualized return:\", annualized_return * 100, '%')\n",
    "\n",
    "pms = 6 * exp_by_month.mean() * -1\n",
    "pmr = 12 * exp_by_month.mean() * -1\n",
    "pi = 0.1 * pmr * age\n",
    "pnif = pmr / annualized_return\n",
    "assets_total = invested_for_month_by(invest, BASE_DATE, 'title').sum()\n",
    "\n",
    "assets_goals = pd.DataFrame([pms, pmr, pi, pnif, assets_total], index=['PMS', 'PMR', 'PI', 'PNIF', 'Total'])\n",
    "display(style_assets_goals(assets_goals, assets_total.amount))\n",
    "\n",
    "plot_assets_summary(assets_summary[['Total']], '2018-01')"
   ]
  },
  {
   "cell_type": "markdown",
   "metadata": {},
   "source": [
    "# How much my time is worth?"
   ]
  },
  {
   "cell_type": "code",
   "execution_count": null,
   "metadata": {},
   "outputs": [],
   "source": [
    "from date_helpers import records_for_month\n",
    "import calendar\n",
    "\n",
    "def weekdays_in_month(BASE_DATE):\n",
    "    month_calendar = calendar.monthcalendar(BASE_DATE.year, BASE_DATE.month)\n",
    "    weekdays_in_month = 0\n",
    "    for week in month_calendar:\n",
    "        for day in filter(lambda x: x > 0, week):\n",
    "            if calendar.weekday(BASE_DATE.year, BASE_DATE.month, day) < 5:\n",
    "                weekdays_in_month += 1\n",
    "    return weekdays_in_month\n",
    "\n",
    "# BASE_DATE = date(2018, 6, 1)\n",
    "\n",
    "total_earned_on_base_date = records_for_month(incomes[incomes.category == 'renda'], BASE_DATE).amount.sum()\n",
    "total_worked_by_day = 8.8 # According to CLT\n",
    "total_worked_by_month = total_worked_by_day * weekdays_in_month(BASE_DATE)\n",
    "\n",
    "money_for_time = total_earned_on_base_date / total_worked_by_month\n",
    "\n",
    "print(\"In\", BASE_DATE.strftime('%Y-%m'), \"you have earned\", total_earned_on_base_date, \".\")\n",
    "print(\"Given you have worked for {:,.2f} hours in this month.\".format(total_worked_by_month))\n",
    "print(\"Your time is worth {:,.2f} R$/hour.\".format(money_for_time), \"Not considering holidays or vacations.\")"
   ]
  },
  {
   "cell_type": "markdown",
   "metadata": {},
   "source": [
    "# TODO\n",
    "\n",
    "- Categorize my investments in patrimony goals (SELIC goes inside Emergency Reserve, while risky investments go to Financial Independence)\n",
    "- Add index to measure my financial independence\n",
    "- Think about another ways of seeing investments return for month"
   ]
  }
 ],
 "metadata": {
  "kernelspec": {
   "display_name": "Python 3",
   "language": "python",
   "name": "python3"
  },
  "language_info": {
   "codemirror_mode": {
    "name": "ipython",
    "version": 3
   },
   "file_extension": ".py",
   "mimetype": "text/x-python",
   "name": "python",
   "nbconvert_exporter": "python",
   "pygments_lexer": "ipython3",
   "version": "3.7.0"
  }
 },
 "nbformat": 4,
 "nbformat_minor": 2
}
