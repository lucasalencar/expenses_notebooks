{
 "cells": [
  {
   "cell_type": "markdown",
   "metadata": {},
   "source": [
    "# Data preprocess"
   ]
  },
  {
   "cell_type": "code",
   "execution_count": null,
   "metadata": {},
   "outputs": [],
   "source": [
    "from expenses_preprocess import *\n",
    "import os\n",
    "\n",
    "DATA_PATH = \"./data\"\n",
    "PERSON_WHO_PAYS = \"Lucas Alencar\"\n",
    "\n",
    "# Map with categories from Nubank/Splitwise to official categories\n",
    "CATEGORY_CONVERSION_TABLE = {\n",
    "    'Eletrônicos': 'Compras',\n",
    "    'Supermercado': 'Mercado',\n",
    "    'Vestuário': 'Compras',\n",
    "    'Jantar fora': 'Restaurante',\n",
    "    'Ônibus/trem': 'Transporte',\n",
    "    'Filmes': 'Lazer',\n",
    "    'Despesas médicas': 'Saúde',\n",
    "    'Aluguel': 'Casa',\n",
    "    'Táxi': 'Transporte'\n",
    "}\n",
    "\n",
    "# Column names to convert Splitwise\n",
    "SPLITWISE_COLUMN_NAMES = {\n",
    "    'Data': 'date',\n",
    "    'Descrição': 'title',\n",
    "    'Categoria': 'category',\n",
    "}\n",
    "\n",
    "# NUBANK PREPROCESS\n",
    "nubank_expenses = nubank_preprocess(read_all_csvs(DATA_PATH, 'nubank*.csv'))\n",
    "\n",
    "# SPLITWISE PREPROCESS\n",
    "splitwise = read_first_file_found(DATA_PATH, \"Splitwise*.csv\")\n",
    "splitwise = splitwise_preprocess(splitwise, PERSON_WHO_PAYS, SPLITWISE_COLUMN_NAMES)\n",
    "\n",
    "# OTHER EXPENSES PREPROCESS\n",
    "other_expenses = read_first_file_found(DATA_PATH, \"Outras*contas*Despesas*.csv\")\n",
    "\n",
    "# INCOMES PREPROCESS\n",
    "incomes = read_first_file_found(DATA_PATH, \"Outras*contas*Rendimentos*.csv\")\n",
    "incomes = incomes_preprocess(incomes)\n",
    "\n",
    "# Data consolidation and exports\n",
    "expenses = expenses_preprocess(pd.concat([nubank_expenses, splitwise, other_expenses]), CATEGORY_CONVERSION_TABLE)\n",
    "export_to_sheets(expenses, DATA_PATH)\n",
    "export_raw_expenses(expenses, DATA_PATH)\n",
    "\n",
    "print(\"Ok\")"
   ]
  },
  {
   "cell_type": "markdown",
   "metadata": {},
   "source": [
    "# Expenses analysis"
   ]
  },
  {
   "cell_type": "code",
   "execution_count": null,
   "metadata": {},
   "outputs": [],
   "source": [
    "import pandas as pd\n",
    "\n",
    "def amount_by_month(data):\n",
    "    return data.groupby(data['date'].dt.strftime(\"%Y-%m\")).amount.sum().to_frame()\n",
    "\n",
    "expenses.set_index('date')\n",
    "\n",
    "# Expenses and incomes by month\n",
    "exp_by_month = amount_by_month(expenses)\n",
    "inc_by_month = amount_by_month(incomes)\n",
    "\n",
    "# pd.concat([exp_by_month, inc_by_month], axis=1)\n",
    "print(inc_by_month)\n",
    "print(exp_by_month)\n",
    "\n",
    "inc_by_month + exp_by_month"
   ]
  }
 ],
 "metadata": {
  "kernelspec": {
   "display_name": "Python 3",
   "language": "python",
   "name": "python3"
  },
  "language_info": {
   "codemirror_mode": {
    "name": "ipython",
    "version": 3
   },
   "file_extension": ".py",
   "mimetype": "text/x-python",
   "name": "python",
   "nbconvert_exporter": "python",
   "pygments_lexer": "ipython3",
   "version": "3.6.3"
  }
 },
 "nbformat": 4,
 "nbformat_minor": 2
}
