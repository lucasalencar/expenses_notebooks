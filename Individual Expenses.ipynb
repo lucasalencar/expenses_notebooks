{
 "cells": [
  {
   "cell_type": "markdown",
   "metadata": {},
   "source": [
    "# Configurations"
   ]
  },
  {
   "cell_type": "code",
   "execution_count": null,
   "metadata": {},
   "outputs": [],
   "source": [
    "# These are configuration variable used by the notebook\n",
    "\n",
    "# Category Map from Nubank/Splitwise to official categories\n",
    "# This map will be used to convert a category to another one\n",
    "CATEGORY_CONVERSION_TABLE = {\n",
    "    'Eletricidade': 'Casa',\n",
    "    'Aluguel': 'Casa',\n",
    "    'Móveis': 'Casa',\n",
    "    'Jantar fora': 'Restaurante',\n",
    "    'Supermercado': 'Mercado',\n",
    "    'supermercado': 'mercado',\n",
    "    'Eletrônicos': 'Compras',\n",
    "    'Vestuário': 'Compras',\n",
    "    'Produtos de limpeza': 'Compras',\n",
    "    'Filmes': 'Lazer',\n",
    "    'Música': 'Lazer',\n",
    "    'Bicicleta': 'Lazer',\n",
    "    'TV/Telefone/Internet': 'Serviços',\n",
    "    'Despesas médicas': 'Saúde',\n",
    "    'Táxi': 'Transporte',\n",
    "    'Ônibus/trem': 'Viagem',\n",
    "    'Avião': 'Viagem',\n",
    "    'Carro': 'Viagem',\n",
    "    'Combustível': 'Viagem',\n",
    "    'Hotel': 'Viagem',\n",
    "    'Presentes': 'Outros',\n",
    "    'Geral': 'Outros',\n",
    "    'Ajuste': 'Outros',\n",
    "    'Manutenção': 'Compras',\n",
    "    'Jogos': 'Lazer',\n",
    "    'Seguro': 'Outros'\n",
    "}\n",
    "\n",
    "\n",
    "LOAD_CONFIGS = {\n",
    "    'data_path': \"./data\", # Directory that contains the expenses data\n",
    "    'nubank_file_pattern': \"nubank*.csv\",\n",
    "    'splitwise_file_pattern': \"20*mozi-e-eu*.csv\",\n",
    "    'manual_file_pattern': \"Extrato outras contas*Despesas*.csv\",\n",
    "    'incomes_file_pattern': \"Extrato outras contas*Rendimentos*.csv\",\n",
    "    'person_who_pays': \"Lucas Alencar\", # Person name that the expenses will be extracted from Splitwise csv\n",
    "    'category_conversion_table': CATEGORY_CONVERSION_TABLE,\n",
    "}\n",
    "\n",
    "\n",
    "from datetime import date\n",
    "from date_helpers import previous_month\n",
    "\n",
    "# Date used to make month analysis through the notebook\n",
    "# BASE_DATE = date(2018, 7, 1)\n",
    "BASE_DATE = previous_month(date.today())\n",
    "\n",
    "# Year you were born\n",
    "YEAR_OF_BIRTH = 1991"
   ]
  },
  {
   "cell_type": "markdown",
   "metadata": {},
   "source": [
    "# Data load and preprocess"
   ]
  },
  {
   "cell_type": "code",
   "execution_count": null,
   "metadata": {},
   "outputs": [],
   "source": [
    "import pandas as pd\n",
    "import numpy as np\n",
    "import seaborn as sns\n",
    "import matplotlib.pyplot as plt\n",
    "import calendar\n",
    "\n",
    "%matplotlib inline\n",
    "\n",
    "from IPython.display import display\n",
    "from record_summary import *\n",
    "from date_helpers import *\n",
    "\n",
    "from load import incomes, expenses\n",
    "\n",
    "incomes = incomes.load(**LOAD_CONFIGS)\n",
    "expenses = expenses.load(**LOAD_CONFIGS)"
   ]
  },
  {
   "cell_type": "markdown",
   "metadata": {},
   "source": [
    "# Monthly Expenses"
   ]
  },
  {
   "cell_type": "code",
   "execution_count": null,
   "metadata": {
    "scrolled": false
   },
   "outputs": [],
   "source": [
    "from monthly_expenses import *\n",
    "\n",
    "MONTHLY_BALANCE_GOAL = 0.4\n",
    "\n",
    "# Expenses and incomes by month\n",
    "exp_by_month = total_amount_by(groupby_month(expenses), expenses)\n",
    "\n",
    "income_salary = incomes[incomes.category == 'renda'][['date', 'amount']]\n",
    "inc_by_month = total_amount_by(groupby_month(income_salary), income_salary)\n",
    "\n",
    "monthly_exp = summary_expenses(exp_by_month, inc_by_month)\n",
    "\n",
    "# Monthly averages\n",
    "avg_monthly_exp = summary_expenses(exp_by_month.mean(), inc_by_month.mean())\n",
    "avg_monthly_exp.index = ['Average monthly expenses']\n",
    "\n",
    "print(\" >>> Monthly balance goal:\", MONTHLY_BALANCE_GOAL * 100, \"%\")\n",
    "display(style_summary_expenses(monthly_exp, MONTHLY_BALANCE_GOAL))\n",
    "display(style_summary_expenses(avg_monthly_exp, MONTHLY_BALANCE_GOAL))\n",
    "\n",
    "plot_expenses_summary(monthly_exp)"
   ]
  },
  {
   "cell_type": "markdown",
   "metadata": {},
   "source": [
    "# Expenses by category"
   ]
  },
  {
   "cell_type": "code",
   "execution_count": null,
   "metadata": {
    "scrolled": false
   },
   "outputs": [],
   "source": [
    "from monthly_expenses import *\n",
    "\n",
    "# BASE_DATE = date(2018, 11, 1)\n",
    "print(\">>> Month of analysis: \", BASE_DATE.month, BASE_DATE.year)\n",
    "\n",
    "expenses_for_month = records_for_month(expenses, BASE_DATE)\n",
    "incomes_for_month = records_for_month(incomes, BASE_DATE)\n",
    "\n",
    "expenses_for_category_by_total = describe_expenses(expenses_for_month, incomes_for_month)\n",
    "display(style_expenses_distribution(expenses_for_category_by_total))\n",
    "\n",
    "def display_expenses_by_category(category):\n",
    "    print(\"Expenses in category\", category)\n",
    "    display(expenses_for_month[expenses_for_month.category == category].sort_values('amount'))\n",
    "    \n",
    "display_expenses_by_category(\"outros\")"
   ]
  },
  {
   "cell_type": "code",
   "execution_count": null,
   "metadata": {},
   "outputs": [],
   "source": [
    "# Plots over time for each category grouping them by easy of read\n",
    "expenses_over_time_data = expenses_over_time(expenses, incomes, 'amount #')\n",
    "\n",
    "def food_expenses(expenses, base_date):\n",
    "    data = total_amount_by('category', records_for_month(expenses, base_date))\n",
    "    if 'mercado' in data.index and 'restaurante' in data.index:\n",
    "        return pd.Series(data.loc['mercado'].amount + data.loc['restaurante'].amount) * -1\n",
    "    else:\n",
    "        return pd.Series(0)\n",
    "\n",
    "expenses_over_time_data['alimentação'] = describe_over_time(expenses, food_expenses)\n",
    "\n",
    "EXPENSES_FIGSIZE = (20, 5)\n",
    "\n",
    "plot_over_time(expenses_over_time_data[['casa', 'viagem', 'educação']], figsize=EXPENSES_FIGSIZE)\n",
    "plot_over_time(expenses_over_time_data[['restaurante', 'mercado', 'alimentação']], figsize=EXPENSES_FIGSIZE)\n",
    "plot_over_time(expenses_over_time_data[['transporte', 'lazer', 'serviços']], figsize=EXPENSES_FIGSIZE)"
   ]
  },
  {
   "cell_type": "markdown",
   "metadata": {},
   "source": [
    "# Return progress"
   ]
  },
  {
   "cell_type": "code",
   "execution_count": null,
   "metadata": {
    "scrolled": false
   },
   "outputs": [],
   "source": [
    "from monthly_investiments import *\n",
    "from central_bank_data import central_bank_metric, BC_IPCA_BY_MONTH_ID\n",
    "\n",
    "\n",
    "# BASE_DATE = date(2019, 1, 1)\n",
    "print(\">>> Month of analysis:\", BASE_DATE.month, BASE_DATE.year)\n",
    "\n",
    "current_ipca = central_bank_metric(BC_IPCA_BY_MONTH_ID, BASE_DATE)\n",
    "current_ipca = current_ipca * 100 if current_ipca else None\n",
    "print(\"> Current IPCA:\", current_ipca, \"%\")\n",
    "\n",
    "RETURN_FOR_MONTH_GOAL = 0.005\n",
    "RETURN_WITH_INFLATION_GOAL = 0.0045\n",
    "\n",
    "invest = incomes[incomes.category.isin(['aplicação', 'valor aplicado', 'desconto'])]\n",
    "\n",
    "# Table with returns for the current month\n",
    "summary_invest = summary_investments_current_month(invest, BASE_DATE)\\\n",
    "                 .sort_values('Return for month (%)', ascending=False)\n",
    "\n",
    "display(style_summary_investments(summary_invest, RETURN_FOR_MONTH_GOAL, RETURN_WITH_INFLATION_GOAL))"
   ]
  },
  {
   "cell_type": "markdown",
   "metadata": {},
   "source": [
    "# Return over time"
   ]
  },
  {
   "cell_type": "code",
   "execution_count": null,
   "metadata": {},
   "outputs": [],
   "source": [
    "# Get all investments titles\n",
    "# display(pd.DataFrame(invest['title'].unique(), columns=['title']))\n",
    "\n",
    "# Some visualizations to use and see the return history for the groups\n",
    "general = ['Nuconta Renda Fixa 100% CDI',\n",
    "           'Tesouro Selic 2021',\n",
    "           'CDB Banco Maxima',\n",
    "           'Magnetis Diversificação Renda Fixa',\n",
    "           'Magnetis Diversificação Multimercados',\n",
    "           'Magnetis Diversificação Ações']\n",
    "\n",
    "# Other investments in renda fixa are better than Tesouro Selic? They are still worth it?\n",
    "renda_fixa = ['Nuconta Renda Fixa 100% CDI',\n",
    "              'Tesouro Selic 2021',\n",
    "              'Tesouro Selic 2023',\n",
    "              'Magnetis Diversificação Renda Fixa',\n",
    "              'LCI Banco Original',\n",
    "              'CDB Banco Maxima',\n",
    "              'Brasil Plural Yield Fundo de Investimento Renda Fixa Referen']\n",
    "\n",
    "# Is Magnetis investing in good stocks? Is the cumulative return increasing?\n",
    "renda_variavel = ['Magnetis Diversificação Ações',\n",
    "                  'BRAX11',\n",
    "                  'Magnetis Diversificação Multimercados']\n",
    "\n",
    "# Does bitcoin is still a good experiment?\n",
    "bitcoins = ['Bitcoin', 'Cripto Trade']\n",
    "\n",
    "# There are better opportunities of investments over these Tesouros?\n",
    "tesouros = ['Tesouro IPCA+ 2019',\n",
    "            'Tesouro IPCA+ 2024']\n",
    "\n",
    "\n",
    "RETURN_STARTING_MONTH = '2018-01'\n",
    "RETURN_FIGSIZE = (20, 7)\n",
    "PLOT_TITLE_GROUP = renda_fixa\n",
    "\n",
    "plot_over_time(return_percentage_over_time(invest).loc[RETURN_STARTING_MONTH:, PLOT_TITLE_GROUP], \n",
    "               title='Return over time (%)', figsize=RETURN_FIGSIZE)\n",
    "\n",
    "plot_over_time(cumulative_return_over_time(invest).loc[RETURN_STARTING_MONTH:, PLOT_TITLE_GROUP], \n",
    "               title='Cumulative return over time', figsize=RETURN_FIGSIZE)"
   ]
  },
  {
   "cell_type": "markdown",
   "metadata": {},
   "source": [
    "# Investment progress"
   ]
  },
  {
   "cell_type": "code",
   "execution_count": null,
   "metadata": {
    "scrolled": false
   },
   "outputs": [],
   "source": [
    "assets_summary = summary_assets(invest)\n",
    "display(style_summary_assets(assets_summary))\n",
    "\n",
    "plot_invest_type_distribution(invest, BASE_DATE)\n",
    "\n",
    "# Plot line to see assets progress\n",
    "ASSETS_SUMMARY_START_DATE = '2018-02'\n",
    "\n",
    "plot_over_time(assets_summary.loc[ASSETS_SUMMARY_START_DATE:, 'Return'], figsize=(20, 5))\n",
    "plot_over_time(assets_summary.loc[ASSETS_SUMMARY_START_DATE:, 'Applications'], figsize=(20, 5))"
   ]
  },
  {
   "cell_type": "markdown",
   "metadata": {},
   "source": [
    "# Investments liquidations"
   ]
  },
  {
   "cell_type": "code",
   "execution_count": null,
   "metadata": {},
   "outputs": [],
   "source": [
    "finished = finished_invests(invest).reset_index().title\n",
    "finished_investments = incomes[incomes.title.isin(list(finished))]\n",
    "invests_final_return(finished_investments)"
   ]
  },
  {
   "cell_type": "markdown",
   "metadata": {},
   "source": [
    "# Assets goals"
   ]
  },
  {
   "cell_type": "code",
   "execution_count": null,
   "metadata": {},
   "outputs": [],
   "source": [
    "# PMS Patrimônio Mínimo de Sobrevivência (Reserva de emergência)\n",
    "# 6 * Custo mensal\n",
    "\n",
    "# PMR Patrimônio Mínimo Recomendado para segurança \n",
    "# Possibilita decisões mais arriscada sobre carreira ou mudanças.\n",
    "# 12 * Custo mensal\n",
    "\n",
    "# PI Patrimônio Ideal para idade e consumo \n",
    "# Dado os meus gastos mensais atuais, se eu continuar trabalhando até a aposentadoria (65 anos), \n",
    "# eu conseguiria viver apenas gastando esse dinheiro.\n",
    "# 0.1 * PMR * Idade\n",
    "\n",
    "# PNIF Patrimônio Necessário para a Independência Financeira\n",
    "# Dado os meus rendimentos com investimentos, eu conseguiria manter o mesmo padrão apenas com o dinheiro investido\n",
    "# PMR / Rendimento anual %\n",
    "\n",
    "from datetime import date\n",
    "from monthly_investiments import *\n",
    "from investments import totals as tt\n",
    "\n",
    "age = date.today().year - YEAR_OF_BIRTH\n",
    "\n",
    "# This is the annualized return based on the return for every month\n",
    "# It is starting to count the return beginning on 2018-04, \n",
    "# because this is the most accurate values I have now\n",
    "annualized_return = assets_summary.loc['2018-04':, 'Return / Total'].mean() * 12\n",
    "print(\"Annualized return:\", annualized_return * 100, '%')\n",
    "\n",
    "pms = 6 * exp_by_month.mean() * -1\n",
    "pmr = 12 * exp_by_month.mean() * -1\n",
    "pi = 0.1 * pmr * age\n",
    "pnif = pmr / annualized_return\n",
    "assets_total = tt.invested_for_month_by('title', invest, BASE_DATE).sum()\n",
    "\n",
    "assets_goals = pd.DataFrame([pms, pmr, pi, pnif, assets_total], index=['PMS', 'PMR', 'PI', 'PNIF', 'Total'])\n",
    "display(style_assets_goals(assets_goals, assets_total.amount))\n",
    "\n",
    "plot_over_time(assets_summary.loc['2018-01':, 'Total'], figsize=(20, 5))"
   ]
  },
  {
   "cell_type": "markdown",
   "metadata": {},
   "source": [
    "# How much my time is worth?"
   ]
  },
  {
   "cell_type": "code",
   "execution_count": null,
   "metadata": {},
   "outputs": [],
   "source": [
    "def weekdays_in_month(BASE_DATE):\n",
    "    month_calendar = calendar.monthcalendar(BASE_DATE.year, BASE_DATE.month)\n",
    "    weekdays_in_month = 0\n",
    "    for week in month_calendar:\n",
    "        for day in filter(lambda x: x > 0, week):\n",
    "            if calendar.weekday(BASE_DATE.year, BASE_DATE.month, day) < 5:\n",
    "                weekdays_in_month += 1\n",
    "    return weekdays_in_month\n",
    "\n",
    "# BASE_DATE = date(2018, 6, 1)\n",
    "\n",
    "total_earned_on_base_date = records_for_month(incomes[incomes.category == 'renda'], BASE_DATE).amount.sum()\n",
    "total_worked_by_day = 8.8 # According to CLT\n",
    "total_worked_by_month = total_worked_by_day * weekdays_in_month(BASE_DATE)\n",
    "\n",
    "money_for_time = total_earned_on_base_date / total_worked_by_month\n",
    "\n",
    "print(\"In\", BASE_DATE.strftime('%Y-%m'), \"you have earned\", total_earned_on_base_date, \".\")\n",
    "print(\"Given you have worked for {:,.2f} hours in this month.\".format(total_worked_by_month))\n",
    "print(\"Your time is worth {:,.2f} R$/hour.\".format(money_for_time), \"Not considering holidays or vacations.\")"
   ]
  },
  {
   "cell_type": "markdown",
   "metadata": {},
   "source": [
    "# TODO\n",
    "\n",
    "- Add index to measure my financial independence\n",
    "- Add analysis when an investment has ended. How much did I win with it and if it was worth it."
   ]
  }
 ],
 "metadata": {
  "kernelspec": {
   "display_name": "Python 3",
   "language": "python",
   "name": "python3"
  },
  "language_info": {
   "codemirror_mode": {
    "name": "ipython",
    "version": 3
   },
   "file_extension": ".py",
   "mimetype": "text/x-python",
   "name": "python",
   "nbconvert_exporter": "python",
   "pygments_lexer": "ipython3",
   "version": "3.7.0"
  }
 },
 "nbformat": 4,
 "nbformat_minor": 2
}
