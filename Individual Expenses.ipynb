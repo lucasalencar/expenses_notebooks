{
 "cells": [
  {
   "cell_type": "markdown",
   "metadata": {},
   "source": [
    "# Configurations"
   ]
  },
  {
   "cell_type": "code",
   "execution_count": null,
   "metadata": {},
   "outputs": [],
   "source": [
    "# These are configuration variable used by the notebook\n",
    "\n",
    "# Directory that contains the expenses data\n",
    "DATA_PATH = \"./data\"\n",
    "\n",
    "# Person name that the expenses will be extracted from Splitwise csv\n",
    "PERSON_WHO_PAYS = \"Lucas Alencar\"\n",
    "\n",
    "# Category Map from Nubank/Splitwise to official categories\n",
    "# This map will be used to convert a category to another one\n",
    "CATEGORY_CONVERSION_TABLE = {\n",
    "    'Eletricidade': 'Casa',\n",
    "    'Aluguel': 'Casa',\n",
    "    'Móveis': 'Casa',\n",
    "    'Jantar fora': 'Restaurante',\n",
    "    'Supermercado': 'Mercado',\n",
    "    'Eletrônicos': 'Compras',\n",
    "    'Vestuário': 'Compras',\n",
    "    'Produtos de limpeza': 'Compras',\n",
    "    'Filmes': 'Lazer',\n",
    "    'Música': 'Lazer',\n",
    "    'TV/Telefone/Internet': 'Serviços',\n",
    "    'Despesas médicas': 'Saúde',\n",
    "    'Táxi': 'Transporte',\n",
    "    'Ônibus/trem': 'Transporte',\n",
    "    'Avião': 'Viagem',\n",
    "    'Hotel': 'Viagem',\n",
    "    'Presentes': 'Outros',\n",
    "    'Geral': 'Outros',\n",
    "    'Ajuste': 'Outros'\n",
    "}\n",
    "\n",
    "from datetime import date\n",
    "from date_helpers import previous_month\n",
    "\n",
    "# Date used to make month analysis through the notebook\n",
    "# BASE_DATE = date(2018, 4, 1)\n",
    "BASE_DATE = previous_month(date.today())\n",
    "\n",
    "# Year you were born\n",
    "YEAR_OF_BIRTH = 1991\n",
    "\n",
    "# The average annual return from your investments\n",
    "ANNUAL_RETURN = 0.0639 # SELIC anualizada http://www.portaldefinancas.com/cdi1819.htm"
   ]
  },
  {
   "cell_type": "markdown",
   "metadata": {},
   "source": [
    "# Data load and preprocess"
   ]
  },
  {
   "cell_type": "code",
   "execution_count": null,
   "metadata": {},
   "outputs": [],
   "source": [
    "from preprocess import *\n",
    "\n",
    "# NUBANK PREPROCESS\n",
    "nubank_expenses = nubank_preprocess(read_all_csvs(DATA_PATH, 'nubank*.csv'))\n",
    "\n",
    "# SPLITWISE PREPROCESS\n",
    "splitwise = read_first_file_found(DATA_PATH, \"mozi-e-eu*.csv\")\n",
    "splitwise = splitwise_preprocess(splitwise, PERSON_WHO_PAYS)\n",
    "\n",
    "# OTHER EXPENSES PREPROCESS\n",
    "other_expenses = read_first_file_found(DATA_PATH, \"Outras*contas*Despesas*.csv\")\n",
    "\n",
    "# INCOMES PREPROCESS\n",
    "incomes = read_first_file_found(DATA_PATH, \"Outras*contas*Rendimentos*.csv\")\n",
    "incomes = incomes_preprocess(incomes)\n",
    "\n",
    "# Data consolidation and exports\n",
    "expenses = expenses_preprocess(pd.concat([nubank_expenses, splitwise, other_expenses], sort=False), CATEGORY_CONVERSION_TABLE)\n",
    "export_to_sheets(expenses, DATA_PATH)\n",
    "export_raw_expenses(expenses, DATA_PATH)"
   ]
  },
  {
   "cell_type": "markdown",
   "metadata": {},
   "source": [
    "# Monthly Expenses"
   ]
  },
  {
   "cell_type": "code",
   "execution_count": null,
   "metadata": {},
   "outputs": [],
   "source": [
    "import pandas as pd\n",
    "import seaborn as sns\n",
    "import matplotlib.pyplot as plt\n",
    "\n",
    "%matplotlib inline\n",
    "\n",
    "from IPython.display import display\n",
    "from monthly_expenses import *\n",
    "from record_summary import total_amount_by, groupby_month\n",
    "\n",
    "MONTHLY_BALANCE_GOAL = 0.25\n",
    "\n",
    "# Expenses and incomes by month\n",
    "exp_by_month = total_amount_by(groupby_month(expenses), expenses)\n",
    "\n",
    "income_salary = incomes[incomes.category == 'Renda']\n",
    "inc_by_month = total_amount_by(groupby_month(income_salary), income_salary)\n",
    "\n",
    "monthly_exp = summary_expenses(exp_by_month, inc_by_month)\n",
    "\n",
    "# Monthly averages\n",
    "avg_monthly_exp = summary_expenses(exp_by_month.mean(), inc_by_month.mean())\n",
    "avg_monthly_exp.index = ['Average monthly expenses']\n",
    "\n",
    "print(\" >>> Monthly balance goal:\", MONTHLY_BALANCE_GOAL * 100, \"%\")\n",
    "display(style_summary_expenses(monthly_exp, MONTHLY_BALANCE_GOAL))\n",
    "display(style_summary_expenses(avg_monthly_exp, MONTHLY_BALANCE_GOAL))\n",
    "\n",
    "# Plot expenses summary\n",
    "plt.figure(figsize=(20,10))\n",
    "plt.plot(monthly_exp['Expenses'] * -1, 'r', label='Expenses')\n",
    "plt.plot(monthly_exp['Incomes'], 'g', label='Incomes')\n",
    "plt.plot(monthly_exp['Balance'], 'b', label='Balance')\n",
    "plt.legend(fontsize=20)\n",
    "plt.grid()\n",
    "plt.show()"
   ]
  },
  {
   "cell_type": "markdown",
   "metadata": {},
   "source": [
    "# Expenses by category"
   ]
  },
  {
   "cell_type": "code",
   "execution_count": null,
   "metadata": {},
   "outputs": [],
   "source": [
    "from date_helpers import records_for_month\n",
    "\n",
    "from monthly_expenses import *\n",
    "from plotting import bar_plot\n",
    "\n",
    "# BASE_DATE = date(2018, 4, 1)\n",
    "print(\">>> Month of analysis: \", BASE_DATE.month, BASE_DATE.year)\n",
    "\n",
    "expenses_for_month = records_for_month(expenses, BASE_DATE)\n",
    "expenses_for_category_by_total = expenses_distribution(expenses_for_month)\n",
    "display(style_expenses_distribution(expenses_for_category_by_total))\n",
    "\n",
    "bar_plot(expenses_for_category_by_total)"
   ]
  },
  {
   "cell_type": "markdown",
   "metadata": {},
   "source": [
    "# Investments progress"
   ]
  },
  {
   "cell_type": "code",
   "execution_count": null,
   "metadata": {},
   "outputs": [],
   "source": [
    "# It would be interesting to have a separate sheet for investment,\n",
    "# so I can add categories such as Renda Fixa or Tesouro Direto and I could know how eveything is distributed\n",
    "\n",
    "from IPython.display import display\n",
    "from monthly_investiments import *\n",
    "\n",
    "# BASE_DATE = date(2018, 4, 1)\n",
    "print(\">>> Month of analysis: \", BASE_DATE.month, BASE_DATE.year)\n",
    "\n",
    "RETURN_GOAL = 0.002\n",
    "\n",
    "invest = incomes[incomes.category.isin(['Aplicação', 'Rendimento'])]\n",
    "\n",
    "summary_invest = summary_investiments(invest, BASE_DATE)\n",
    "display(style_summary_investments(summary_invest, RETURN_GOAL))\n",
    "\n",
    "assets_summary = summary_assets(invest)\n",
    "display(style_summary_assets(assets_summary))\n",
    "\n",
    "# Plot line to see visualy assets progress\n",
    "assets_summary.loc['2018-02':, ['Return']].plot(figsize=(20, 5), grid=True, fontsize=15, title='Return')\n",
    "assets_summary.loc['2018-02':, ['Applications']].plot(figsize=(20, 5), grid=True, fontsize=15, title='Applications')\n",
    "assets_summary.loc['2018-02':, ['Total']].plot(figsize=(20, 5), grid=True, fontsize=15, title='Total')"
   ]
  },
  {
   "cell_type": "markdown",
   "metadata": {},
   "source": [
    "# Assets goals"
   ]
  },
  {
   "cell_type": "code",
   "execution_count": null,
   "metadata": {},
   "outputs": [],
   "source": [
    "# PMS Patrimônio Mínimo de Sobrevivência (Reserva de emergência)\n",
    "# 6 * Custo mensal\n",
    "\n",
    "# PMR Patrimônio Mínimo Recomendado para segurança \n",
    "# Possibilita decisões mais arriscada sobre carreira ou mudanças.\n",
    "# 12 * Custo mensal\n",
    "\n",
    "# PI Patrimônio Ideal para idade e consumo \n",
    "# Dado os meus gastos mensais atuais, se eu continuar trabalhando até a aposentadoria (65 anos), \n",
    "# eu conseguiria viver apenas gastando esse dinheiro.\n",
    "# 0.1 * PMR * Idade\n",
    "\n",
    "# PNIF Patrimônio Necessário para a Independência Financeira\n",
    "# Dado os meus rendimentos com investimentos, eu conseguiria manter o mesmo padrão apenas com o dinheiro investido\n",
    "# PMR / Rendimento anual %\n",
    "\n",
    "from datetime import date\n",
    "from monthly_investiments import *\n",
    "\n",
    "age = date.today().year - YEAR_OF_BIRTH\n",
    "\n",
    "pms = 6 * exp_by_month.mean() * -1\n",
    "pmr = 12 * exp_by_month.mean() * -1\n",
    "pi = 0.1 * pmr * age\n",
    "pnif = pmr / ANNUAL_RETURN\n",
    "assets_total = invest.sum()\n",
    "\n",
    "assets_goals = pd.DataFrame([pms, pmr, pi, pnif, assets_total], index=['PMS', 'PMR', 'PI', 'PNIF', 'Total'])\n",
    "display(style_assets_goals(assets_goals, assets_total.amount))"
   ]
  }
 ],
 "metadata": {
  "kernelspec": {
   "display_name": "Python 3",
   "language": "python",
   "name": "python3"
  },
  "language_info": {
   "codemirror_mode": {
    "name": "ipython",
    "version": 3
   },
   "file_extension": ".py",
   "mimetype": "text/x-python",
   "name": "python",
   "nbconvert_exporter": "python",
   "pygments_lexer": "ipython3",
   "version": "3.6.5"
  }
 },
 "nbformat": 4,
 "nbformat_minor": 2
}
