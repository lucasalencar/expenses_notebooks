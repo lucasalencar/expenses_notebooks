{
 "cells": [
  {
   "cell_type": "markdown",
   "metadata": {},
   "source": [
    "# Data preprocess"
   ]
  },
  {
   "cell_type": "code",
   "execution_count": null,
   "metadata": {},
   "outputs": [],
   "source": [
    "from preprocess import *\n",
    "import os\n",
    "\n",
    "DATA_PATH = \"./data\"\n",
    "PERSON_WHO_PAYS = \"Lucas Alencar\"\n",
    "\n",
    "# Map with categories from Nubank/Splitwise to official categories\n",
    "CATEGORY_CONVERSION_TABLE = {\n",
    "    'Eletricidade': 'Casa',\n",
    "    'Aluguel': 'Casa',\n",
    "    'Móveis': 'Casa',\n",
    "    'Jantar fora': 'Restaurante',\n",
    "    'Supermercado': 'Mercado',\n",
    "    'Eletrônicos': 'Compras',\n",
    "    'Vestuário': 'Compras',\n",
    "    'Produtos de limpeza': 'Compras',\n",
    "    'Filmes': 'Lazer',\n",
    "    'Música': 'Lazer',\n",
    "    'TV/Telefone/Internet': 'Serviços',\n",
    "    'Despesas médicas': 'Saúde',\n",
    "    'Táxi': 'Transporte',\n",
    "    'Ônibus/trem': 'Transporte',\n",
    "    'Avião': 'Viagem',\n",
    "    'Hotel': 'Viagem',\n",
    "    'Presentes': 'Outros',\n",
    "    'Geral': 'Outros',\n",
    "    'Ajuste': 'Outros'\n",
    "}\n",
    "\n",
    "# Column names to convert Splitwise\n",
    "SPLITWISE_COLUMN_NAMES = {\n",
    "    'Data': 'date',\n",
    "    'Descrição': 'title',\n",
    "    'Categoria': 'category',\n",
    "}\n",
    "\n",
    "# NUBANK PREPROCESS\n",
    "nubank_expenses = nubank_preprocess(read_all_csvs(DATA_PATH, 'nubank*.csv'))\n",
    "\n",
    "# SPLITWISE PREPROCESS\n",
    "splitwise = read_first_file_found(DATA_PATH, \"mozi-e-eu*.csv\")\n",
    "splitwise = splitwise_preprocess(splitwise, PERSON_WHO_PAYS, SPLITWISE_COLUMN_NAMES)\n",
    "\n",
    "# OTHER EXPENSES PREPROCESS\n",
    "other_expenses = read_first_file_found(DATA_PATH, \"Outras*contas*Despesas*.csv\")\n",
    "\n",
    "# INCOMES PREPROCESS\n",
    "incomes = read_first_file_found(DATA_PATH, \"Outras*contas*Rendimentos*.csv\")\n",
    "incomes = incomes_preprocess(incomes)\n",
    "\n",
    "# Data consolidation and exports\n",
    "expenses = expenses_preprocess(pd.concat([nubank_expenses, splitwise, other_expenses], sort=False), CATEGORY_CONVERSION_TABLE)\n",
    "export_to_sheets(expenses, DATA_PATH)\n",
    "export_raw_expenses(expenses, DATA_PATH)\n",
    "\n",
    "print(\"Ok\")"
   ]
  },
  {
   "cell_type": "markdown",
   "metadata": {},
   "source": [
    "# Monthly Expenses"
   ]
  },
  {
   "cell_type": "code",
   "execution_count": null,
   "metadata": {},
   "outputs": [],
   "source": [
    "import pandas as pd\n",
    "import seaborn as sns\n",
    "import matplotlib.pyplot as plt\n",
    "\n",
    "%matplotlib inline\n",
    "\n",
    "from IPython.display import display\n",
    "from monthly_expenses import *\n",
    "from record_summary import total_amount_by, groupby_month\n",
    "\n",
    "MONTHLY_BALANCE_GOAL = 0.25\n",
    "\n",
    "# Expenses and incomes by month\n",
    "exp_by_month = total_amount_by(groupby_month(expenses), expenses)\n",
    "\n",
    "income_salary = incomes[incomes.category == 'Renda']\n",
    "inc_by_month = total_amount_by(groupby_month(income_salary), income_salary)\n",
    "\n",
    "monthly_exp = summary_expenses(exp_by_month, inc_by_month)\n",
    "\n",
    "# Monthly averages\n",
    "avg_monthly_exp = summary_expenses(exp_by_month.mean(), inc_by_month.mean())\n",
    "avg_monthly_exp.index = ['Average monthly expenses']\n",
    "\n",
    "print(\" >>> Monthly balance goal:\", MONTHLY_BALANCE_GOAL * 100, \"%\")\n",
    "display(style_summary_expenses(monthly_exp, MONTHLY_BALANCE_GOAL))\n",
    "display(style_summary_expenses(avg_monthly_exp, MONTHLY_BALANCE_GOAL))\n",
    "\n",
    "# Plot expenses summary\n",
    "plt.figure(figsize=(20,10))\n",
    "plt.plot(monthly_exp['Expenses'] * -1, 'r', label='Expenses')\n",
    "plt.plot(monthly_exp['Incomes'], 'g', label='Incomes')\n",
    "plt.plot(monthly_exp['Balance'], 'b', label='Balance')\n",
    "plt.legend(fontsize=20)\n",
    "plt.grid()\n",
    "plt.show()"
   ]
  },
  {
   "cell_type": "markdown",
   "metadata": {},
   "source": [
    "# Category analysis"
   ]
  },
  {
   "cell_type": "code",
   "execution_count": null,
   "metadata": {},
   "outputs": [],
   "source": [
    "from datetime import date\n",
    "from date_helpers import previous_month, records_for_month\n",
    "\n",
    "from monthly_expenses import *\n",
    "from plotting import bar_plot\n",
    "    \n",
    "# BASE_DATE = date(2018, 4, 1)\n",
    "BASE_DATE = previous_month(date.today())\n",
    "print(\">>> Month of analysis: \", BASE_DATE.month, BASE_DATE.year)\n",
    "\n",
    "expenses_for_month = records_for_month(expenses, BASE_DATE)\n",
    "expenses_for_category_by_total = expenses_distribution(expenses_for_month)\n",
    "display(style_expenses_distribution(expenses_for_category_by_total))\n",
    "\n",
    "bar_plot(expenses_for_category_by_total)"
   ]
  },
  {
   "cell_type": "markdown",
   "metadata": {},
   "source": [
    "# Investment progression"
   ]
  },
  {
   "cell_type": "code",
   "execution_count": null,
   "metadata": {},
   "outputs": [],
   "source": [
    "# It would be interesting to have a separate sheet for investment,\n",
    "# so I can add categories such as Renda Fixa or Tesouro Direto and I could know how eveything is distributed\n",
    "\n",
    "from IPython.display import display\n",
    "from monthly_investiments import *\n",
    "\n",
    "# BASE_DATE = date(2018, 4, 1)\n",
    "BASE_DATE = previous_month(date.today())\n",
    "print(\">>> Month of analysis: \", BASE_DATE.month, BASE_DATE.year)\n",
    "\n",
    "RETURN_GOAL = 0.002\n",
    "\n",
    "invest = incomes[incomes.category.isin(['Aplicação', 'Rendimento'])]\n",
    "\n",
    "summary_invest = summary_investiments(invest, BASE_DATE)\n",
    "display(style_summary_investments(summary_invest, RETURN_GOAL))\n",
    "display(style_summary_assets(summary_assets(invest)))"
   ]
  }
 ],
 "metadata": {
  "kernelspec": {
   "display_name": "Python 3",
   "language": "python",
   "name": "python3"
  },
  "language_info": {
   "codemirror_mode": {
    "name": "ipython",
    "version": 3
   },
   "file_extension": ".py",
   "mimetype": "text/x-python",
   "name": "python",
   "nbconvert_exporter": "python",
   "pygments_lexer": "ipython3",
   "version": "3.6.5"
  }
 },
 "nbformat": 4,
 "nbformat_minor": 2
}
